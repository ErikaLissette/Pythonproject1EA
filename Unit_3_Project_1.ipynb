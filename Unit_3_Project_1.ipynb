{
  "nbformat": 4,
  "nbformat_minor": 0,
  "metadata": {
    "colab": {
      "name": "Unit 3. Project 1",
      "provenance": [],
      "authorship_tag": "ABX9TyO6Edc0Zx/woMvaQ5Y5ik/o",
      "include_colab_link": true
    },
    "kernelspec": {
      "name": "python3",
      "display_name": "Python 3"
    }
  },
  "cells": [
    {
      "cell_type": "markdown",
      "metadata": {
        "id": "view-in-github",
        "colab_type": "text"
      },
      "source": [
        "<a href=\"https://colab.research.google.com/github/ErikaLissette/Pythonproject1EA/blob/master/Unit_3_Project_1.ipynb\" target=\"_parent\"><img src=\"https://colab.research.google.com/assets/colab-badge.svg\" alt=\"Open In Colab\"/></a>"
      ]
    },
    {
      "cell_type": "code",
      "metadata": {
        "id": "yoatWlFhkluQ",
        "colab_type": "code",
        "colab": {}
      },
      "source": [
        "import pandas as pd\n",
        "import numpy as np\n",
        "import seaborn as sns\n",
        "import matplotlib.pyplot as plt\n",
        "%matplotlib inline\n",
        "missing_values = ['na','s']\n",
        "df = pd.read_csv('https://raw.githubusercontent.com/CunyLaguardiaDataAnalytics/datasets/master/2014-15_To_2016-17_School-_Level_NYC_Regents_Report_For_All_Variables.csv', na_values = missing_values)\n",
        "df\n"
      ],
      "execution_count": null,
      "outputs": []
    },
    {
      "cell_type": "code",
      "metadata": {
        "id": "OsORPFHlrJ8p",
        "colab_type": "code",
        "colab": {}
      },
      "source": [
        "#Isolated School 84X717 and used describe to see the min and mean and count for the dataframe.\n",
        "\n",
        "df4 = df.loc[df['School DBN'] == '84X717']\n",
        "df4\n",
        "df4.describe()"
      ],
      "execution_count": null,
      "outputs": []
    },
    {
      "cell_type": "code",
      "metadata": {
        "id": "d1J4Xn3Xkvse",
        "colab_type": "code",
        "colab": {}
      },
      "source": [
        "#Isolated School 84X717\n",
        "\n",
        "df4 = df.loc[df['School DBN'] == '84X717']\n",
        "df4\n",
        "\n",
        "#Plot School\n",
        "\n",
        "#The only information they had for Regents results in the school were for Common Core Algebra and Living Enviroment. \n",
        "#Other subjects were null. I wanted to see the number of students that scored above 80 in regents, every year.\n",
        "\n",
        "sns.catplot(x= 'Regents Exam',y='Number Scoring 80 or Above', data=df4, hue= 'Year', kind= 'bar')\n",
        "\n"
      ],
      "execution_count": null,
      "outputs": []
    },
    {
      "cell_type": "code",
      "metadata": {
        "id": "V99PSDl8nInE",
        "colab_type": "code",
        "colab": {}
      },
      "source": [
        "#Plotting another bar graph to know the total students that were tested in that school.\n",
        "\n",
        "# the bar graph is showing the amount/total students that were tested, the regent exam for every year. \n",
        "# In 2016 and 2017, there was no data for Hist. & Gov.\n",
        "\n",
        "sns.catplot(x= 'Regents Exam',y='Total Tested', data=df4, hue= 'Year', kind= 'bar')"
      ],
      "execution_count": null,
      "outputs": []
    },
    {
      "cell_type": "code",
      "metadata": {
        "id": "g3zsEN93mKu3",
        "colab_type": "code",
        "colab": {}
      },
      "source": [
        "#Isolated School 84X717\n",
        "\n",
        "df4 = df.loc[df['School DBN'] == '84X717']\n",
        "df4\n",
        "\n",
        "# Here I wanted to see the Regents Exam and mean score of all the subjects, and all the 4 years. \n",
        "# The scatter plot shows the color to deferentiate the years.\n",
        "sns.relplot(x= 'Regents Exam', y= 'Mean Score', hue= 'Year', data=df4)"
      ],
      "execution_count": null,
      "outputs": []
    },
    {
      "cell_type": "code",
      "metadata": {
        "id": "ewC1JacAtzzD",
        "colab_type": "code",
        "colab": {}
      },
      "source": [
        "#here I wanted to see all the information of the data set, I used desrcibe to see all the information, i.e the mean, min and count. \n",
        "df.describe()\n"
      ],
      "execution_count": null,
      "outputs": []
    },
    {
      "cell_type": "code",
      "metadata": {
        "id": "4iG9yUxpuAUO",
        "colab_type": "code",
        "colab": {}
      },
      "source": [
        "# In this graph I wanted to see the all the number of students that scored over 80 and from what school level they were.\n",
        "# Unfotunately becasue the data set is so big it will be hard to compare, because the information is not too easy on the eye. \n",
        "sns.relplot(x= 'School Level',y='Number Scoring 80 or Above', data=df, hue= 'Year')\n"
      ],
      "execution_count": null,
      "outputs": []
    },
    {
      "cell_type": "code",
      "metadata": {
        "id": "VGqqeK32vCGc",
        "colab_type": "code",
        "colab": {}
      },
      "source": [
        "#Here I wanted to compare the mean score city wide and the mean score with my selected school. \n",
        "\n",
        "sns.catplot(x='School Level' , y= 'Mean Score', kind= 'box', data= df, hue= 'Year')\n"
      ],
      "execution_count": null,
      "outputs": []
    },
    {
      "cell_type": "code",
      "metadata": {
        "id": "lbxRJJ35y-75",
        "colab_type": "code",
        "colab": {}
      },
      "source": [
        "#Here I wanted to compate the Mean Score from my selcted school. \n",
        "#If you pay attention to K-8 In the graph above the school I selected, performed similarly than the city wide schools. \n",
        "sns.catplot(x='School Level' , y= 'Mean Score', kind= 'box', data= df4, hue= 'Year')"
      ],
      "execution_count": null,
      "outputs": []
    }
  ]
}